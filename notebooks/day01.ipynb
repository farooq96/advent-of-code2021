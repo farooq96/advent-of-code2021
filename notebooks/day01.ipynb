{
 "cells": [
  {
   "cell_type": "markdown",
   "id": "6f6ff8ed-9a96-408a-aac0-a9d93f40f9d0",
   "metadata": {},
   "source": [
    "## Part 1 "
   ]
  },
  {
   "cell_type": "code",
   "execution_count": 1,
   "id": "44372d45-4004-4cad-b847-40c861677509",
   "metadata": {},
   "outputs": [],
   "source": [
    "with open('./input_files/input.txt', \"r\", encoding=\"utf-8\") as f:\n",
    "    lines = list(map(int, f.readlines()))"
   ]
  },
  {
   "cell_type": "code",
   "execution_count": 2,
   "id": "6db3d6c9-86b8-4b9b-84c9-886360841e1e",
   "metadata": {},
   "outputs": [
    {
     "name": "stdout",
     "output_type": "stream",
     "text": [
      "CPU times: user 273 µs, sys: 4 µs, total: 277 µs\n",
      "Wall time: 279 µs\n"
     ]
    }
   ],
   "source": [
    "%%time\n",
    "count=0\n",
    "prev=lines[0]\n",
    "for i in lines[1:]:\n",
    "    if( i > prev):\n",
    "        count=count + 1\n",
    "    else:\n",
    "        pass\n",
    "    prev= i"
   ]
  },
  {
   "cell_type": "code",
   "execution_count": 3,
   "id": "103f2d94-e443-4882-a17d-4b42cb2125b5",
   "metadata": {},
   "outputs": [
    {
     "name": "stdout",
     "output_type": "stream",
     "text": [
      "1711\n"
     ]
    }
   ],
   "source": [
    "print(count)"
   ]
  },
  {
   "cell_type": "markdown",
   "id": "a5e005f4-a30b-427b-be0f-df925f70e430",
   "metadata": {},
   "source": [
    "## Part 2"
   ]
  },
  {
   "cell_type": "code",
   "execution_count": 4,
   "id": "fe22732d-a5d4-4532-9526-61e142591587",
   "metadata": {},
   "outputs": [
    {
     "name": "stdout",
     "output_type": "stream",
     "text": [
      "CPU times: user 1.42 ms, sys: 4 µs, total: 1.43 ms\n",
      "Wall time: 1.43 ms\n"
     ]
    }
   ],
   "source": [
    "%%time\n",
    "count=0 \n",
    "prev_sum=sum(lines[0:3])\n",
    "for i in range(1, len(lines[2:]), 1):\n",
    "    next_sum=sum(lines[i:i+3])\n",
    "    if( next_sum > prev_sum):\n",
    "        count=count + 1\n",
    "    prev_sum= next_sum"
   ]
  },
  {
   "cell_type": "code",
   "execution_count": 5,
   "id": "c913a24a-74dc-4826-8903-6eb073894bb0",
   "metadata": {},
   "outputs": [
    {
     "name": "stdout",
     "output_type": "stream",
     "text": [
      "1743\n"
     ]
    }
   ],
   "source": [
    "print(count)"
   ]
  },
  {
   "cell_type": "code",
   "execution_count": null,
   "id": "d770b11a-1ef5-4927-b1ab-508cb71a7231",
   "metadata": {},
   "outputs": [],
   "source": []
  }
 ],
 "metadata": {
  "kernelspec": {
   "display_name": "Python 3 (ipykernel)",
   "language": "python",
   "name": "python3"
  },
  "language_info": {
   "codemirror_mode": {
    "name": "ipython",
    "version": 3
   },
   "file_extension": ".py",
   "mimetype": "text/x-python",
   "name": "python",
   "nbconvert_exporter": "python",
   "pygments_lexer": "ipython3",
   "version": "3.8.8"
  }
 },
 "nbformat": 4,
 "nbformat_minor": 5
}
