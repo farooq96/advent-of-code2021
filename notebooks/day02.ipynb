{
 "cells": [
  {
   "cell_type": "markdown",
   "id": "7ffa07d0-f7c1-4f15-bf81-3ebb3b683cb1",
   "metadata": {},
   "source": [
    "# Advent of Code 2021"
   ]
  },
  {
   "cell_type": "markdown",
   "id": "cb0d73b3-d5e7-444b-9b18-a2aa2f4a64d4",
   "metadata": {},
   "source": [
    "### Day 02 - Part one "
   ]
  },
  {
   "cell_type": "code",
   "execution_count": 24,
   "id": "32ae1b14-6e43-4222-baea-6623fc5f3870",
   "metadata": {},
   "outputs": [],
   "source": [
    "f=open('../input_files/input_day2.txt',\"r\")\n",
    "lines=f.readlines()\n",
    "forward=[]\n",
    "up_down=[]\n",
    "for x in lines:\n",
    "    direc,mag=str(x.split(' ')[0]),int(x.split(' ')[1])\n",
    "    if (direc=='forward'):\n",
    "        forward.append(mag)\n",
    "    elif (direc=='up'):\n",
    "        up_down.append(-1*mag)\n",
    "    else:\n",
    "        up_down.append(mag)"
   ]
  },
  {
   "cell_type": "code",
   "execution_count": 25,
   "id": "a2a441dc-fb6d-4eae-a112-a5b0e13360bf",
   "metadata": {},
   "outputs": [],
   "source": [
    "answer=sum(forward)*sum(up_down)"
   ]
  },
  {
   "cell_type": "code",
   "execution_count": 26,
   "id": "6dc2e5e1-3729-490e-be3d-aaac02f75a06",
   "metadata": {},
   "outputs": [
    {
     "data": {
      "text/plain": [
       "1936494"
      ]
     },
     "execution_count": 26,
     "metadata": {},
     "output_type": "execute_result"
    }
   ],
   "source": [
    "answer"
   ]
  },
  {
   "cell_type": "markdown",
   "id": "a5c4529c-6560-4d7a-a0f5-ad2b92a94779",
   "metadata": {},
   "source": [
    "### Day 02 - Part two "
   ]
  },
  {
   "cell_type": "code",
   "execution_count": 72,
   "id": "68147414-94a8-4a51-838c-8d0830b90b95",
   "metadata": {},
   "outputs": [],
   "source": [
    "f=open('../input_files/input_day2.txt',\"r\")\n",
    "#f=open('../input_files/part_two_test.txt',\"r\")\n",
    "lines=f.readlines()\n",
    "forward=[]\n",
    "up_down=[]\n",
    "aim=0\n",
    "for x in lines:\n",
    "    direc,mag=str(x.split(' ')[0]),int(x.split(' ')[1])\n",
    "    if (direc=='forward'):\n",
    "        forward.append(mag)\n",
    "        up_down.append(aim*mag)\n",
    "        \n",
    "    elif (direc=='up'):\n",
    "        aim=aim-mag\n",
    "    else:\n",
    "        aim=aim+mag\n",
    "        "
   ]
  },
  {
   "cell_type": "code",
   "execution_count": 70,
   "id": "eb5593bf-c2eb-4da8-a3dd-784349b95382",
   "metadata": {},
   "outputs": [],
   "source": [
    "answer=sum(forward)*sum(up_down)"
   ]
  },
  {
   "cell_type": "code",
   "execution_count": 71,
   "id": "357d7287-1c58-43d3-bb49-8b9a741f834d",
   "metadata": {},
   "outputs": [
    {
     "data": {
      "text/plain": [
       "1997106066"
      ]
     },
     "execution_count": 71,
     "metadata": {},
     "output_type": "execute_result"
    }
   ],
   "source": [
    "answer"
   ]
  }
 ],
 "metadata": {
  "kernelspec": {
   "display_name": "Python 3 (ipykernel)",
   "language": "python",
   "name": "python3"
  },
  "language_info": {
   "codemirror_mode": {
    "name": "ipython",
    "version": 3
   },
   "file_extension": ".py",
   "mimetype": "text/x-python",
   "name": "python",
   "nbconvert_exporter": "python",
   "pygments_lexer": "ipython3",
   "version": "3.8.8"
  }
 },
 "nbformat": 4,
 "nbformat_minor": 5
}
